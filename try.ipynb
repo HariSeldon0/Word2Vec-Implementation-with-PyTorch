{
 "cells": [
  {
   "cell_type": "code",
   "execution_count": 4,
   "metadata": {},
   "outputs": [],
   "source": [
    "import torch\n",
    "from datasets import load_dataset"
   ]
  },
  {
   "cell_type": "code",
   "execution_count": 5,
   "metadata": {},
   "outputs": [],
   "source": [
    "wiki_dataset = load_dataset(\"Salesforce/wikitext\", \"wikitext-2-v1\", split=\"train\")"
   ]
  },
  {
   "cell_type": "code",
   "execution_count": 6,
   "metadata": {},
   "outputs": [
    {
     "data": {
      "text/plain": [
       "Dataset({\n",
       "    features: ['text'],\n",
       "    num_rows: 36718\n",
       "})"
      ]
     },
     "execution_count": 6,
     "metadata": {},
     "output_type": "execute_result"
    }
   ],
   "source": [
    "wiki_dataset"
   ]
  },
  {
   "cell_type": "code",
   "execution_count": 17,
   "metadata": {},
   "outputs": [],
   "source": [
    "from torch.utils.data import DataLoader\n",
    "dataset = DataLoader(wiki_dataset['text'], batch_size=4)"
   ]
  },
  {
   "cell_type": "code",
   "execution_count": null,
   "metadata": {},
   "outputs": [],
   "source": [
    "for idx, batch in enumerate(dataset):\n",
    "    print(idx)\n",
    "    print(batch)\n",
    "    if idx == 10:\n",
    "        break\n"
   ]
  },
  {
   "cell_type": "code",
   "execution_count": 66,
   "metadata": {},
   "outputs": [
    {
     "data": {
      "text/plain": [
       "tensor([[-1.3953,  3.5405,  2.2417,  4.9389,  2.2361],\n",
       "        [ 3.1146, -0.1864, -1.1203, -1.3953, -2.1114],\n",
       "        [-0.1864,  5.4835,  4.0636,  3.5405,  0.5448],\n",
       "        [-1.3953,  3.5405,  2.2417,  4.9389,  2.2361],\n",
       "        [-2.1114,  0.5448,  1.7535,  2.2361,  2.7654],\n",
       "        [-1.3953,  3.5405,  2.2417,  4.9389,  2.2361],\n",
       "        [-2.1114,  0.5448,  1.7535,  2.2361,  2.7654],\n",
       "        [ 3.1146, -0.1864, -1.1203, -1.3953, -2.1114],\n",
       "        [ 3.1146, -0.1864, -1.1203, -1.3953, -2.1114],\n",
       "        [-2.1114,  0.5448,  1.7535,  2.2361,  2.7654]], grad_fn=<MmBackward0>)"
      ]
     },
     "execution_count": 66,
     "metadata": {},
     "output_type": "execute_result"
    }
   ],
   "source": [
    "from torch import nn\n",
    "\n",
    "batch_size = 10\n",
    "vocab_size = 5\n",
    "embedding_size = 6\n",
    "\n",
    "V = nn.Embedding(vocab_size, embedding_size)\n",
    "x = torch.randint(vocab_size, (batch_size,))\n",
    "V(x).shape, V.weight.T.size()\n",
    "V(x).matmul(V.weight.T).size()"
   ]
  }
 ],
 "metadata": {
  "kernelspec": {
   "display_name": "ml",
   "language": "python",
   "name": "python3"
  },
  "language_info": {
   "codemirror_mode": {
    "name": "ipython",
    "version": 3
   },
   "file_extension": ".py",
   "mimetype": "text/x-python",
   "name": "python",
   "nbconvert_exporter": "python",
   "pygments_lexer": "ipython3",
   "version": "3.10.16"
  }
 },
 "nbformat": 4,
 "nbformat_minor": 2
}
